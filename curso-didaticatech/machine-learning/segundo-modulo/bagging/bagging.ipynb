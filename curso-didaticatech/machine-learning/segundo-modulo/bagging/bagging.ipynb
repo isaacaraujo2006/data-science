{
 "cells": [
  {
   "cell_type": "code",
   "execution_count": 1,
   "id": "fc12062f",
   "metadata": {},
   "outputs": [],
   "source": [
    "import pandas as pd\n",
    "import warnings\n",
    "warnings.filterwarnings('ignore')\n",
    "pd.set_option('display.max_columns', 23)\n",
    "arquivo = pd.read_csv('D:/Github/data-science/machine-learning/segundo-modulo/bagging/recipedata.csv', encoding = \"ISO-8859-1\")"
   ]
  },
  {
   "cell_type": "code",
   "execution_count": 2,
   "id": "c590a62b",
   "metadata": {},
   "outputs": [],
   "source": [
    "selecao = arquivo.loc[arquivo['StyleID'].isin([7, 10, 134, 9, 4, 30, 86, 12, 92, 6, 175, 39])]"
   ]
  },
  {
   "cell_type": "code",
   "execution_count": 3,
   "id": "7abb19b3",
   "metadata": {},
   "outputs": [],
   "source": [
    "selecao.drop(['BeerID', 'Name', 'URL', 'Style', 'UserId', 'PrimingMethod', 'PrimingAmount'], axis = 1, inplace = True)"
   ]
  },
  {
   "cell_type": "code",
   "execution_count": 4,
   "id": "7e7ee582",
   "metadata": {},
   "outputs": [
    {
     "data": {
      "text/html": [
       "<div>\n",
       "<style scoped>\n",
       "    .dataframe tbody tr th:only-of-type {\n",
       "        vertical-align: middle;\n",
       "    }\n",
       "\n",
       "    .dataframe tbody tr th {\n",
       "        vertical-align: top;\n",
       "    }\n",
       "\n",
       "    .dataframe thead th {\n",
       "        text-align: right;\n",
       "    }\n",
       "</style>\n",
       "<table border=\"1\" class=\"dataframe\">\n",
       "  <thead>\n",
       "    <tr style=\"text-align: right;\">\n",
       "      <th></th>\n",
       "      <th>StyleID</th>\n",
       "      <th>Size(L)</th>\n",
       "      <th>OG</th>\n",
       "      <th>FG</th>\n",
       "      <th>ABV</th>\n",
       "      <th>IBU</th>\n",
       "      <th>Color</th>\n",
       "      <th>BoilSize</th>\n",
       "      <th>BoilTime</th>\n",
       "      <th>BoilGravity</th>\n",
       "      <th>Efficiency</th>\n",
       "      <th>MashThickness</th>\n",
       "      <th>SugarScale</th>\n",
       "      <th>BrewMethod</th>\n",
       "      <th>PitchRate</th>\n",
       "      <th>PrimaryTemp</th>\n",
       "    </tr>\n",
       "  </thead>\n",
       "  <tbody>\n",
       "    <tr>\n",
       "      <th>2</th>\n",
       "      <td>7</td>\n",
       "      <td>18.93</td>\n",
       "      <td>1.063</td>\n",
       "      <td>1.018</td>\n",
       "      <td>5.91</td>\n",
       "      <td>59.25</td>\n",
       "      <td>8.98</td>\n",
       "      <td>22.71</td>\n",
       "      <td>60</td>\n",
       "      <td>NaN</td>\n",
       "      <td>70.0</td>\n",
       "      <td>NaN</td>\n",
       "      <td>Specific Gravity</td>\n",
       "      <td>extract</td>\n",
       "      <td>NaN</td>\n",
       "      <td>NaN</td>\n",
       "    </tr>\n",
       "    <tr>\n",
       "      <th>3</th>\n",
       "      <td>7</td>\n",
       "      <td>22.71</td>\n",
       "      <td>1.061</td>\n",
       "      <td>1.017</td>\n",
       "      <td>5.80</td>\n",
       "      <td>54.48</td>\n",
       "      <td>8.50</td>\n",
       "      <td>26.50</td>\n",
       "      <td>60</td>\n",
       "      <td>NaN</td>\n",
       "      <td>70.0</td>\n",
       "      <td>NaN</td>\n",
       "      <td>Specific Gravity</td>\n",
       "      <td>All Grain</td>\n",
       "      <td>NaN</td>\n",
       "      <td>NaN</td>\n",
       "    </tr>\n",
       "    <tr>\n",
       "      <th>5</th>\n",
       "      <td>10</td>\n",
       "      <td>24.61</td>\n",
       "      <td>1.055</td>\n",
       "      <td>1.013</td>\n",
       "      <td>5.58</td>\n",
       "      <td>40.12</td>\n",
       "      <td>8.00</td>\n",
       "      <td>29.34</td>\n",
       "      <td>70</td>\n",
       "      <td>1.047</td>\n",
       "      <td>79.0</td>\n",
       "      <td>NaN</td>\n",
       "      <td>Specific Gravity</td>\n",
       "      <td>All Grain</td>\n",
       "      <td>1.0</td>\n",
       "      <td>NaN</td>\n",
       "    </tr>\n",
       "  </tbody>\n",
       "</table>\n",
       "</div>"
      ],
      "text/plain": [
       "   StyleID  Size(L)     OG     FG   ABV    IBU  Color  BoilSize  BoilTime  \\\n",
       "2        7    18.93  1.063  1.018  5.91  59.25   8.98     22.71        60   \n",
       "3        7    22.71  1.061  1.017  5.80  54.48   8.50     26.50        60   \n",
       "5       10    24.61  1.055  1.013  5.58  40.12   8.00     29.34        70   \n",
       "\n",
       "   BoilGravity  Efficiency  MashThickness        SugarScale BrewMethod  \\\n",
       "2          NaN        70.0            NaN  Specific Gravity    extract   \n",
       "3          NaN        70.0            NaN  Specific Gravity  All Grain   \n",
       "5        1.047        79.0            NaN  Specific Gravity  All Grain   \n",
       "\n",
       "   PitchRate  PrimaryTemp  \n",
       "2        NaN          NaN  \n",
       "3        NaN          NaN  \n",
       "5        1.0          NaN  "
      ]
     },
     "execution_count": 4,
     "metadata": {},
     "output_type": "execute_result"
    }
   ],
   "source": [
    "selecao.head(3)"
   ]
  },
  {
   "cell_type": "code",
   "execution_count": 5,
   "id": "e2bb4745",
   "metadata": {},
   "outputs": [],
   "source": [
    "selecao['SugarScale'] = selecao['SugarScale'].replace('Specific Gravity', 0)\n",
    "selecao['SugarScale'] = selecao['SugarScale'].replace('Plato', 1)"
   ]
  },
  {
   "cell_type": "code",
   "execution_count": 6,
   "id": "2181a9b8",
   "metadata": {},
   "outputs": [],
   "source": [
    "#Transformando variáveis texto na coluna 'BrewMethod' em categorias com one hot enconding\n",
    "brewmethod_encode = pd.get_dummies(selecao['BrewMethod'])\n",
    "\n",
    "#Excluindo a coluna de texto 'BrewMethod'\n",
    "selecao.drop('BrewMethod', axis = 1, inplace = True)\n",
    "\n",
    "#Inserindo as variaveis one hot encode novamente no dataset\n",
    "concatenado = pd.concat([selecao, brewmethod_encode], axis=1)"
   ]
  },
  {
   "cell_type": "code",
   "execution_count": 7,
   "id": "dd0c09e1",
   "metadata": {},
   "outputs": [],
   "source": [
    "concatenado['PitchRate'].fillna(concatenado['PitchRate'].mean(), inplace=True)\n",
    "concatenado.fillna(concatenado.median(), inplace=True)"
   ]
  },
  {
   "cell_type": "code",
   "execution_count": 8,
   "id": "c9a76cfd",
   "metadata": {},
   "outputs": [
    {
     "data": {
      "text/html": [
       "<div>\n",
       "<style scoped>\n",
       "    .dataframe tbody tr th:only-of-type {\n",
       "        vertical-align: middle;\n",
       "    }\n",
       "\n",
       "    .dataframe tbody tr th {\n",
       "        vertical-align: top;\n",
       "    }\n",
       "\n",
       "    .dataframe thead th {\n",
       "        text-align: right;\n",
       "    }\n",
       "</style>\n",
       "<table border=\"1\" class=\"dataframe\">\n",
       "  <thead>\n",
       "    <tr style=\"text-align: right;\">\n",
       "      <th></th>\n",
       "      <th>StyleID</th>\n",
       "      <th>Size(L)</th>\n",
       "      <th>OG</th>\n",
       "      <th>FG</th>\n",
       "      <th>ABV</th>\n",
       "      <th>IBU</th>\n",
       "      <th>Color</th>\n",
       "      <th>BoilSize</th>\n",
       "      <th>BoilTime</th>\n",
       "      <th>BoilGravity</th>\n",
       "      <th>Efficiency</th>\n",
       "      <th>MashThickness</th>\n",
       "      <th>SugarScale</th>\n",
       "      <th>PitchRate</th>\n",
       "      <th>PrimaryTemp</th>\n",
       "      <th>All Grain</th>\n",
       "      <th>BIAB</th>\n",
       "      <th>Partial Mash</th>\n",
       "      <th>extract</th>\n",
       "    </tr>\n",
       "  </thead>\n",
       "  <tbody>\n",
       "    <tr>\n",
       "      <th>2</th>\n",
       "      <td>7</td>\n",
       "      <td>18.93</td>\n",
       "      <td>1.063</td>\n",
       "      <td>1.018</td>\n",
       "      <td>5.91</td>\n",
       "      <td>59.25</td>\n",
       "      <td>8.98</td>\n",
       "      <td>22.71</td>\n",
       "      <td>60</td>\n",
       "      <td>1.047</td>\n",
       "      <td>70.0</td>\n",
       "      <td>1.5</td>\n",
       "      <td>0</td>\n",
       "      <td>0.677102</td>\n",
       "      <td>20.00</td>\n",
       "      <td>0</td>\n",
       "      <td>0</td>\n",
       "      <td>0</td>\n",
       "      <td>1</td>\n",
       "    </tr>\n",
       "    <tr>\n",
       "      <th>3</th>\n",
       "      <td>7</td>\n",
       "      <td>22.71</td>\n",
       "      <td>1.061</td>\n",
       "      <td>1.017</td>\n",
       "      <td>5.80</td>\n",
       "      <td>54.48</td>\n",
       "      <td>8.50</td>\n",
       "      <td>26.50</td>\n",
       "      <td>60</td>\n",
       "      <td>1.047</td>\n",
       "      <td>70.0</td>\n",
       "      <td>1.5</td>\n",
       "      <td>0</td>\n",
       "      <td>0.677102</td>\n",
       "      <td>20.00</td>\n",
       "      <td>1</td>\n",
       "      <td>0</td>\n",
       "      <td>0</td>\n",
       "      <td>0</td>\n",
       "    </tr>\n",
       "    <tr>\n",
       "      <th>5</th>\n",
       "      <td>10</td>\n",
       "      <td>24.61</td>\n",
       "      <td>1.055</td>\n",
       "      <td>1.013</td>\n",
       "      <td>5.58</td>\n",
       "      <td>40.12</td>\n",
       "      <td>8.00</td>\n",
       "      <td>29.34</td>\n",
       "      <td>70</td>\n",
       "      <td>1.047</td>\n",
       "      <td>79.0</td>\n",
       "      <td>1.5</td>\n",
       "      <td>0</td>\n",
       "      <td>1.000000</td>\n",
       "      <td>20.00</td>\n",
       "      <td>1</td>\n",
       "      <td>0</td>\n",
       "      <td>0</td>\n",
       "      <td>0</td>\n",
       "    </tr>\n",
       "    <tr>\n",
       "      <th>6</th>\n",
       "      <td>86</td>\n",
       "      <td>22.71</td>\n",
       "      <td>1.072</td>\n",
       "      <td>1.018</td>\n",
       "      <td>7.09</td>\n",
       "      <td>268.71</td>\n",
       "      <td>6.33</td>\n",
       "      <td>30.28</td>\n",
       "      <td>90</td>\n",
       "      <td>1.047</td>\n",
       "      <td>75.0</td>\n",
       "      <td>1.5</td>\n",
       "      <td>0</td>\n",
       "      <td>0.677102</td>\n",
       "      <td>20.00</td>\n",
       "      <td>1</td>\n",
       "      <td>0</td>\n",
       "      <td>0</td>\n",
       "      <td>0</td>\n",
       "    </tr>\n",
       "    <tr>\n",
       "      <th>9</th>\n",
       "      <td>86</td>\n",
       "      <td>20.82</td>\n",
       "      <td>1.080</td>\n",
       "      <td>1.017</td>\n",
       "      <td>8.22</td>\n",
       "      <td>93.02</td>\n",
       "      <td>8.29</td>\n",
       "      <td>28.39</td>\n",
       "      <td>60</td>\n",
       "      <td>1.058</td>\n",
       "      <td>70.0</td>\n",
       "      <td>1.5</td>\n",
       "      <td>0</td>\n",
       "      <td>0.677102</td>\n",
       "      <td>21.11</td>\n",
       "      <td>1</td>\n",
       "      <td>0</td>\n",
       "      <td>0</td>\n",
       "      <td>0</td>\n",
       "    </tr>\n",
       "  </tbody>\n",
       "</table>\n",
       "</div>"
      ],
      "text/plain": [
       "   StyleID  Size(L)     OG     FG   ABV     IBU  Color  BoilSize  BoilTime  \\\n",
       "2        7    18.93  1.063  1.018  5.91   59.25   8.98     22.71        60   \n",
       "3        7    22.71  1.061  1.017  5.80   54.48   8.50     26.50        60   \n",
       "5       10    24.61  1.055  1.013  5.58   40.12   8.00     29.34        70   \n",
       "6       86    22.71  1.072  1.018  7.09  268.71   6.33     30.28        90   \n",
       "9       86    20.82  1.080  1.017  8.22   93.02   8.29     28.39        60   \n",
       "\n",
       "   BoilGravity  Efficiency  MashThickness  SugarScale  PitchRate  PrimaryTemp  \\\n",
       "2        1.047        70.0            1.5           0   0.677102        20.00   \n",
       "3        1.047        70.0            1.5           0   0.677102        20.00   \n",
       "5        1.047        79.0            1.5           0   1.000000        20.00   \n",
       "6        1.047        75.0            1.5           0   0.677102        20.00   \n",
       "9        1.058        70.0            1.5           0   0.677102        21.11   \n",
       "\n",
       "   All Grain  BIAB  Partial Mash  extract  \n",
       "2          0     0             0        1  \n",
       "3          1     0             0        0  \n",
       "5          1     0             0        0  \n",
       "6          1     0             0        0  \n",
       "9          1     0             0        0  "
      ]
     },
     "execution_count": 8,
     "metadata": {},
     "output_type": "execute_result"
    }
   ],
   "source": [
    "concatenado.head()"
   ]
  },
  {
   "cell_type": "code",
   "execution_count": 9,
   "id": "a33f1aa0",
   "metadata": {},
   "outputs": [],
   "source": [
    "#Definindo variáveis preditoras e variável target\n",
    "y = concatenado['StyleID']\n",
    "x = concatenado.drop('StyleID', axis=1)"
   ]
  },
  {
   "cell_type": "code",
   "execution_count": 11,
   "id": "07cfb5c7",
   "metadata": {},
   "outputs": [
    {
     "name": "stdout",
     "output_type": "stream",
     "text": [
      "0.47160117434507676\n"
     ]
    }
   ],
   "source": [
    "from sklearn.tree import DecisionTreeClassifier\n",
    "from sklearn.model_selection import StratifiedKFold\n",
    "from sklearn.model_selection import cross_val_score\n",
    "\n",
    "#Criação do modelo:\n",
    "modelo = DecisionTreeClassifier()\n",
    "skfold = StratifiedKFold(n_splits=3)\n",
    "resultado = cross_val_score(modelo,x,y,cv = skfold, n_jobs=-1)\n",
    "print(resultado.mean())"
   ]
  },
  {
   "cell_type": "code",
   "execution_count": 14,
   "id": "9b02d834",
   "metadata": {},
   "outputs": [
    {
     "name": "stdout",
     "output_type": "stream",
     "text": [
      "Mínimo split:  8\n",
      "Máxima produndidade:  8\n",
      "Mínimo leaf:  5\n",
      "Acurácia:  0.5856481481481483\n"
     ]
    }
   ],
   "source": [
    "import numpy as np\n",
    "from sklearn.tree import DecisionTreeClassifier\n",
    "from sklearn.model_selection import GridSearchCV\n",
    "\n",
    "#Definindo os valores que serão testados em DecisionTree:\n",
    "minimos_split = np.array([2, 3, 4, 5, 6, 7,8])\n",
    "maximo_nivel = np.array([5, 6, 7, 8, 9, 10, 11])\n",
    "minimo_leaf = np.array([1, 2, 3, 4, 5, 6, 7, 8])\n",
    "valores_grid = {'min_samples_split': minimos_split, 'min_samples_leaf':minimo_leaf, 'max_depth':maximo_nivel}\n",
    "\n",
    "#Criação do modelo:\n",
    "modelo = DecisionTreeClassifier()\n",
    "\n",
    "#Criando os grids:\n",
    "gridDecisionTree = GridSearchCV(estimator = modelo, param_grid = valores_grid, cv=3, n_jobs=-1)\n",
    "gridDecisionTree.fit(x,y)\n",
    "\n",
    "#Imprimindo os melhores parâmetros:\n",
    "print (\"Mínimo split: \", gridDecisionTree.best_estimator_.min_samples_split)\n",
    "print (\"Máxima produndidade: \", gridDecisionTree.best_estimator_.max_depth)\n",
    "print (\"Mínimo leaf: \", gridDecisionTree.best_estimator_.min_samples_leaf)\n",
    "print (\"Acurácia: \", gridDecisionTree.best_score_)"
   ]
  },
  {
   "cell_type": "code",
   "execution_count": 21,
   "id": "d983c74e",
   "metadata": {},
   "outputs": [
    {
     "name": "stdout",
     "output_type": "stream",
     "text": [
      "0.6045054200542005\n"
     ]
    }
   ],
   "source": [
    "from sklearn.ensemble import BaggingClassifier\n",
    "from sklearn.model_selection import StratifiedKFold\n",
    "from sklearn.model_selection import cross_val_score\n",
    "\n",
    "#Criação do modelo:\n",
    "modelo = BaggingClassifier(n_estimators=50, max_samples=0.5, n_jobs=-1)\n",
    "skfold = StratifiedKFold(n_splits=3)\n",
    "resultado = cross_val_score(modelo,x,y,cv = skfold, n_jobs=-1)\n",
    "print(resultado.mean())"
   ]
  },
  {
   "cell_type": "code",
   "execution_count": 25,
   "id": "07934cb9",
   "metadata": {},
   "outputs": [
    {
     "name": "stdout",
     "output_type": "stream",
     "text": [
      "0.44585591689250226\n"
     ]
    }
   ],
   "source": [
    "from sklearn.ensemble import BaggingClassifier\n",
    "from sklearn.linear_model import LogisticRegression\n",
    "from sklearn.model_selection import StratifiedKFold\n",
    "from sklearn.model_selection import cross_val_score\n",
    "\n",
    "#Criação do modelo:\n",
    "modelo = BaggingClassifier(base_estimator = LogisticRegression(), n_estimators=10, max_samples=0.5, n_jobs=-1)\n",
    "skfold = StratifiedKFold(n_splits=3)\n",
    "resultado = cross_val_score(modelo,x,y,cv = skfold, n_jobs=-1)\n",
    "print(resultado.mean())"
   ]
  },
  {
   "cell_type": "code",
   "execution_count": 26,
   "id": "4ca24a70",
   "metadata": {},
   "outputs": [
    {
     "name": "stdout",
     "output_type": "stream",
     "text": [
      "0.4250508130081301\n"
     ]
    }
   ],
   "source": [
    "from sklearn.ensemble import BaggingClassifier\n",
    "from sklearn.naive_bayes import GaussianNB\n",
    "from sklearn.model_selection import StratifiedKFold\n",
    "from sklearn.model_selection import cross_val_score\n",
    "\n",
    "#Criação do modelo:\n",
    "modelo = BaggingClassifier(base_estimator = GaussianNB(), n_estimators=10, max_samples=0.5, n_jobs=-1)\n",
    "skfold = StratifiedKFold(n_splits=3)\n",
    "resultado = cross_val_score(modelo,x,y,cv = skfold, n_jobs=-1)\n",
    "print(resultado.mean())"
   ]
  },
  {
   "cell_type": "code",
   "execution_count": null,
   "id": "5ee060b9",
   "metadata": {},
   "outputs": [],
   "source": []
  }
 ],
 "metadata": {
  "kernelspec": {
   "display_name": "Python 3 (ipykernel)",
   "language": "python",
   "name": "python3"
  },
  "language_info": {
   "codemirror_mode": {
    "name": "ipython",
    "version": 3
   },
   "file_extension": ".py",
   "mimetype": "text/x-python",
   "name": "python",
   "nbconvert_exporter": "python",
   "pygments_lexer": "ipython3",
   "version": "3.9.13"
  }
 },
 "nbformat": 4,
 "nbformat_minor": 5
}
