{
 "cells": [
  {
   "cell_type": "code",
   "execution_count": 2,
   "id": "ae00a133",
   "metadata": {},
   "outputs": [],
   "source": [
    "#Documentação Kmeans: https://scikit-learn.org/stable/modules/generated/sklearn.cluster.KMeans.html\n",
    "from sklearn.datasets import load_breast_cancer\n",
    "import pandas as pd\n",
    "import warnings\n",
    "warnings.filterwarnings('ignore')\n",
    "pd.set_option('display.max_columns', 30)\n",
    "dados = load_breast_cancer()\n",
    "x = pd.DataFrame(dados.data, columns=[dados.feature_names])\n",
    "y = pd.Series(dados.target)"
   ]
  },
  {
   "cell_type": "code",
   "execution_count": 3,
   "id": "e22c2506",
   "metadata": {},
   "outputs": [],
   "source": [
    "from sklearn.preprocessing import MinMaxScaler\n",
    "#Normalizando\n",
    "normalizador = MinMaxScaler(feature_range = (0,1))\n",
    "x_norm = normalizador.fit_transform(x)"
   ]
  },
  {
   "cell_type": "code",
   "execution_count": 4,
   "id": "9ba8d6c2",
   "metadata": {},
   "outputs": [
    {
     "name": "stdout",
     "output_type": "stream",
     "text": [
      "0.9279437609841827\n"
     ]
    }
   ],
   "source": [
    "from sklearn.cluster import KMeans\n",
    "#Criação do modelo:\n",
    "modelo = KMeans(n_clusters=2, random_state=16)\n",
    "modelo.fit(x_norm)\n",
    "\n",
    "clusters = modelo.predict(x_norm)\n",
    "\n",
    "#Função para comparar dados entre dois arrays:\n",
    "def compara(resultado1, resultado2):\n",
    "    acertos = 0\n",
    "    for i in range(len(resultado1)):\n",
    "        if resultado1[i] == resultado2[i]:\n",
    "            acertos += 1\n",
    "        else:\n",
    "            pass\n",
    "    return acertos/len(resultado1)\n",
    "\n",
    "resultado = compara(clusters, y)\n",
    "#Imprimindo o resultado:\n",
    "print(resultado)\n",
    "        "
   ]
  },
  {
   "cell_type": "code",
   "execution_count": 5,
   "id": "0d14c2b8",
   "metadata": {},
   "outputs": [
    {
     "name": "stdout",
     "output_type": "stream",
     "text": [
      "0.9279437609841827\n"
     ]
    }
   ],
   "source": [
    "from sklearn.metrics import accuracy_score\n",
    "\n",
    "#Imprimindo o resultado:\n",
    "print(accuracy_score(y, clusters))"
   ]
  }
 ],
 "metadata": {
  "kernelspec": {
   "display_name": "Python 3 (ipykernel)",
   "language": "python",
   "name": "python3"
  },
  "language_info": {
   "codemirror_mode": {
    "name": "ipython",
    "version": 3
   },
   "file_extension": ".py",
   "mimetype": "text/x-python",
   "name": "python",
   "nbconvert_exporter": "python",
   "pygments_lexer": "ipython3",
   "version": "3.9.13"
  }
 },
 "nbformat": 4,
 "nbformat_minor": 5
}
