{
 "cells": [
  {
   "cell_type": "code",
   "execution_count": 74,
   "id": "ffa160fe",
   "metadata": {},
   "outputs": [],
   "source": [
    "import pandas as pd\n",
    "import warnings\n",
    "warnings.filterwarnings('ignore')\n",
    "pd.set_option('display.max_columns', 33)\n",
    "#arquivo = pd.read_csv('https://archive.ics.edu/ml/machine-learning-databases/balance-scale/balance-scale.data',\n",
    "arquivo = pd.read_csv('D:/Github/data-science/machine-learning/segundo-modulo/support-vector-machine/balance-scale.data',\n",
    "                     names=['Class', 'Left-Weight', 'Left-Distance', 'Right-Weight', 'Right-Distance'])"
   ]
  },
  {
   "cell_type": "code",
   "execution_count": 75,
   "id": "2c785c85",
   "metadata": {},
   "outputs": [
    {
     "data": {
      "text/html": [
       "<div>\n",
       "<style scoped>\n",
       "    .dataframe tbody tr th:only-of-type {\n",
       "        vertical-align: middle;\n",
       "    }\n",
       "\n",
       "    .dataframe tbody tr th {\n",
       "        vertical-align: top;\n",
       "    }\n",
       "\n",
       "    .dataframe thead th {\n",
       "        text-align: right;\n",
       "    }\n",
       "</style>\n",
       "<table border=\"1\" class=\"dataframe\">\n",
       "  <thead>\n",
       "    <tr style=\"text-align: right;\">\n",
       "      <th></th>\n",
       "      <th>Class</th>\n",
       "      <th>Left-Weight</th>\n",
       "      <th>Left-Distance</th>\n",
       "      <th>Right-Weight</th>\n",
       "      <th>Right-Distance</th>\n",
       "    </tr>\n",
       "  </thead>\n",
       "  <tbody>\n",
       "    <tr>\n",
       "      <th>0</th>\n",
       "      <td>B</td>\n",
       "      <td>1</td>\n",
       "      <td>1</td>\n",
       "      <td>1</td>\n",
       "      <td>1</td>\n",
       "    </tr>\n",
       "    <tr>\n",
       "      <th>1</th>\n",
       "      <td>R</td>\n",
       "      <td>1</td>\n",
       "      <td>1</td>\n",
       "      <td>1</td>\n",
       "      <td>2</td>\n",
       "    </tr>\n",
       "    <tr>\n",
       "      <th>2</th>\n",
       "      <td>R</td>\n",
       "      <td>1</td>\n",
       "      <td>1</td>\n",
       "      <td>1</td>\n",
       "      <td>3</td>\n",
       "    </tr>\n",
       "    <tr>\n",
       "      <th>3</th>\n",
       "      <td>R</td>\n",
       "      <td>1</td>\n",
       "      <td>1</td>\n",
       "      <td>1</td>\n",
       "      <td>4</td>\n",
       "    </tr>\n",
       "    <tr>\n",
       "      <th>4</th>\n",
       "      <td>R</td>\n",
       "      <td>1</td>\n",
       "      <td>1</td>\n",
       "      <td>1</td>\n",
       "      <td>5</td>\n",
       "    </tr>\n",
       "  </tbody>\n",
       "</table>\n",
       "</div>"
      ],
      "text/plain": [
       "  Class  Left-Weight  Left-Distance  Right-Weight  Right-Distance\n",
       "0     B            1              1             1               1\n",
       "1     R            1              1             1               2\n",
       "2     R            1              1             1               3\n",
       "3     R            1              1             1               4\n",
       "4     R            1              1             1               5"
      ]
     },
     "execution_count": 75,
     "metadata": {},
     "output_type": "execute_result"
    }
   ],
   "source": [
    "arquivo.head()"
   ]
  },
  {
   "cell_type": "code",
   "execution_count": 76,
   "id": "ec2fe09c",
   "metadata": {},
   "outputs": [
    {
     "data": {
      "text/plain": [
       "(625, 5)"
      ]
     },
     "execution_count": 76,
     "metadata": {},
     "output_type": "execute_result"
    }
   ],
   "source": [
    "arquivo.shape"
   ]
  },
  {
   "cell_type": "code",
   "execution_count": 77,
   "id": "01a213cb",
   "metadata": {},
   "outputs": [
    {
     "data": {
      "text/plain": [
       "Class             object\n",
       "Left-Weight        int64\n",
       "Left-Distance      int64\n",
       "Right-Weight       int64\n",
       "Right-Distance     int64\n",
       "dtype: object"
      ]
     },
     "execution_count": 77,
     "metadata": {},
     "output_type": "execute_result"
    }
   ],
   "source": [
    "arquivo.dtypes"
   ]
  },
  {
   "cell_type": "code",
   "execution_count": 78,
   "id": "0cd05b9e",
   "metadata": {},
   "outputs": [
    {
     "name": "stdout",
     "output_type": "stream",
     "text": [
      "Class             0.0\n",
      "Left-Weight       0.0\n",
      "Left-Distance     0.0\n",
      "Right-Weight      0.0\n",
      "Right-Distance    0.0\n",
      "dtype: float64\n"
     ]
    }
   ],
   "source": [
    "faltantes = arquivo.isnull().sum()\n",
    "faltantes_percentual = (arquivo.isnull().sum() / len(arquivo['Class'])) * 100\n",
    "print(faltantes_percentual)"
   ]
  },
  {
   "cell_type": "code",
   "execution_count": 79,
   "id": "963e2348",
   "metadata": {},
   "outputs": [],
   "source": [
    "#Definindo variáveis preditoras e variável target\n",
    "y = arquivo['Class']\n",
    "x = arquivo.drop('Class', axis=1)"
   ]
  },
  {
   "cell_type": "code",
   "execution_count": 80,
   "id": "1ccf1a48",
   "metadata": {},
   "outputs": [
    {
     "name": "stdout",
     "output_type": "stream",
     "text": [
      "0.7809241197399092\n"
     ]
    }
   ],
   "source": [
    "from sklearn.svm import SVC #Regressao SVR e Classificação SVC\n",
    "from sklearn.model_selection import StratifiedKFold\n",
    "from sklearn.model_selection import cross_val_score\n",
    "from sklearn.preprocessing import MinMaxScaler\n",
    "\n",
    "#Normalizando as variáveis preditoras:\n",
    "normalizador = MinMaxScaler(feature_range = (0,1))\n",
    "X_norm = normalizador.fit_transform(x)\n",
    "\n",
    "#Criação do modelo:\n",
    "modelo = SVC()\n",
    "skfold = StratifiedKFold(n_splits=3)\n",
    "resultado = cross_val_score(modelo,X_norm,y,cv = skfold, n_jobs=-1)\n",
    "print(resultado.mean())"
   ]
  },
  {
   "cell_type": "code",
   "execution_count": 83,
   "id": "1d3cd4c3",
   "metadata": {},
   "outputs": [
    {
     "name": "stdout",
     "output_type": "stream",
     "text": [
      "Melhor valor constante:  1000\n",
      "Melhor kernel:  poly\n",
      "Melhor grau polinômio:  2\n",
      "Melhor gamma:  auto\n",
      "Acurácia:  0.956922463501411\n"
     ]
    }
   ],
   "source": [
    "import numpy as np\n",
    "from sklearn.model_selection import GridSearchCV\n",
    "\n",
    "#Definindo os valores que serão testados em SVM:\n",
    "c = np.array([3, 4, 5, 6, 7, 8, 9, 10, 100, 1000, 10000])\n",
    "kernel = ['linear', 'poly', 'rbf', 'sigmoid']\n",
    "polinomio = np.array([2, 3, 4, 5])\n",
    "gamma = ['auto', 'scale']\n",
    "valores_grid = {'C' : c, 'kernel' : kernel, 'degree': polinomio, 'gamma':gamma}\n",
    "\n",
    "#Criação do modelo:\n",
    "modelo = SVC()\n",
    "\n",
    "#Criando os grids:\n",
    "gridSVM = GridSearchCV(estimator = modelo, param_grid = valores_grid, cv=3, n_jobs=-1)\n",
    "gridSVM.fit(X_norm,y)\n",
    "\n",
    "#Imprimindo os melhores parâmetros:\n",
    "print (\"Melhor valor constante: \", gridSVM.best_estimator_.C)\n",
    "print (\"Melhor kernel: \", gridSVM.best_estimator_.kernel)\n",
    "print (\"Melhor grau polinômio: \", gridSVM.best_estimator_.degree)\n",
    "print (\"Melhor gamma: \", gridSVM.best_estimator_.gamma)\n",
    "print (\"Acurácia: \", gridSVM.best_score_)"
   ]
  }
 ],
 "metadata": {
  "kernelspec": {
   "display_name": "Python 3 (ipykernel)",
   "language": "python",
   "name": "python3"
  },
  "language_info": {
   "codemirror_mode": {
    "name": "ipython",
    "version": 3
   },
   "file_extension": ".py",
   "mimetype": "text/x-python",
   "name": "python",
   "nbconvert_exporter": "python",
   "pygments_lexer": "ipython3",
   "version": "3.9.13"
  }
 },
 "nbformat": 4,
 "nbformat_minor": 5
}
