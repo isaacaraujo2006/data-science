{
 "cells": [
  {
   "cell_type": "code",
   "execution_count": 9,
   "id": "51cda053",
   "metadata": {},
   "outputs": [],
   "source": [
    "#Link do dataset: http://archive.ics.uci.edu/ml/datasets/balance+scale"
   ]
  },
  {
   "cell_type": "code",
   "execution_count": null,
   "id": "fceff465",
   "metadata": {},
   "outputs": [],
   "source": [
    "import pandas as pd\n",
    "import warnings\n",
    "warnings.filterwarnings('ignore')\n",
    "arquivo = pd.read_csv('D:/Github/data-science/machine-learning/segundo-modulo/support-vector-machine/concrete_data.xls')"
   ]
  },
  {
   "cell_type": "code",
   "execution_count": 10,
   "id": "e3eda24d",
   "metadata": {},
   "outputs": [
    {
     "data": {
      "text/html": [
       "<div>\n",
       "<style scoped>\n",
       "    .dataframe tbody tr th:only-of-type {\n",
       "        vertical-align: middle;\n",
       "    }\n",
       "\n",
       "    .dataframe tbody tr th {\n",
       "        vertical-align: top;\n",
       "    }\n",
       "\n",
       "    .dataframe thead th {\n",
       "        text-align: right;\n",
       "    }\n",
       "</style>\n",
       "<table border=\"1\" class=\"dataframe\">\n",
       "  <thead>\n",
       "    <tr style=\"text-align: right;\">\n",
       "      <th></th>\n",
       "      <th>Cement (component 1)(kg in a m^3 mixture)</th>\n",
       "      <th>Blast Furnace Slag (component 2)(kg in a m^3 mixture)</th>\n",
       "      <th>Fly Ash (component 3)(kg in a m^3 mixture)</th>\n",
       "      <th>Water  (component 4)(kg in a m^3 mixture)</th>\n",
       "      <th>Superplasticizer (component 5)(kg in a m^3 mixture)</th>\n",
       "      <th>Coarse Aggregate  (component 6)(kg in a m^3 mixture)</th>\n",
       "      <th>Fine Aggregate (component 7)(kg in a m^3 mixture)</th>\n",
       "      <th>Age (day)</th>\n",
       "      <th>Concrete compressive strength(MPa, megapascals)</th>\n",
       "    </tr>\n",
       "  </thead>\n",
       "  <tbody>\n",
       "    <tr>\n",
       "      <th>0</th>\n",
       "      <td>540.0</td>\n",
       "      <td>0.0</td>\n",
       "      <td>0.0</td>\n",
       "      <td>162.0</td>\n",
       "      <td>2.5</td>\n",
       "      <td>1040.0</td>\n",
       "      <td>676.0</td>\n",
       "      <td>28</td>\n",
       "      <td>79.986111</td>\n",
       "    </tr>\n",
       "    <tr>\n",
       "      <th>1</th>\n",
       "      <td>540.0</td>\n",
       "      <td>0.0</td>\n",
       "      <td>0.0</td>\n",
       "      <td>162.0</td>\n",
       "      <td>2.5</td>\n",
       "      <td>1055.0</td>\n",
       "      <td>676.0</td>\n",
       "      <td>28</td>\n",
       "      <td>61.887366</td>\n",
       "    </tr>\n",
       "    <tr>\n",
       "      <th>2</th>\n",
       "      <td>332.5</td>\n",
       "      <td>142.5</td>\n",
       "      <td>0.0</td>\n",
       "      <td>228.0</td>\n",
       "      <td>0.0</td>\n",
       "      <td>932.0</td>\n",
       "      <td>594.0</td>\n",
       "      <td>270</td>\n",
       "      <td>40.269535</td>\n",
       "    </tr>\n",
       "    <tr>\n",
       "      <th>3</th>\n",
       "      <td>332.5</td>\n",
       "      <td>142.5</td>\n",
       "      <td>0.0</td>\n",
       "      <td>228.0</td>\n",
       "      <td>0.0</td>\n",
       "      <td>932.0</td>\n",
       "      <td>594.0</td>\n",
       "      <td>365</td>\n",
       "      <td>41.052780</td>\n",
       "    </tr>\n",
       "    <tr>\n",
       "      <th>4</th>\n",
       "      <td>198.6</td>\n",
       "      <td>132.4</td>\n",
       "      <td>0.0</td>\n",
       "      <td>192.0</td>\n",
       "      <td>0.0</td>\n",
       "      <td>978.4</td>\n",
       "      <td>825.5</td>\n",
       "      <td>360</td>\n",
       "      <td>44.296075</td>\n",
       "    </tr>\n",
       "  </tbody>\n",
       "</table>\n",
       "</div>"
      ],
      "text/plain": [
       "   Cement (component 1)(kg in a m^3 mixture)  \\\n",
       "0                                      540.0   \n",
       "1                                      540.0   \n",
       "2                                      332.5   \n",
       "3                                      332.5   \n",
       "4                                      198.6   \n",
       "\n",
       "   Blast Furnace Slag (component 2)(kg in a m^3 mixture)  \\\n",
       "0                                                0.0       \n",
       "1                                                0.0       \n",
       "2                                              142.5       \n",
       "3                                              142.5       \n",
       "4                                              132.4       \n",
       "\n",
       "   Fly Ash (component 3)(kg in a m^3 mixture)  \\\n",
       "0                                         0.0   \n",
       "1                                         0.0   \n",
       "2                                         0.0   \n",
       "3                                         0.0   \n",
       "4                                         0.0   \n",
       "\n",
       "   Water  (component 4)(kg in a m^3 mixture)  \\\n",
       "0                                      162.0   \n",
       "1                                      162.0   \n",
       "2                                      228.0   \n",
       "3                                      228.0   \n",
       "4                                      192.0   \n",
       "\n",
       "   Superplasticizer (component 5)(kg in a m^3 mixture)  \\\n",
       "0                                                2.5     \n",
       "1                                                2.5     \n",
       "2                                                0.0     \n",
       "3                                                0.0     \n",
       "4                                                0.0     \n",
       "\n",
       "   Coarse Aggregate  (component 6)(kg in a m^3 mixture)  \\\n",
       "0                                             1040.0      \n",
       "1                                             1055.0      \n",
       "2                                              932.0      \n",
       "3                                              932.0      \n",
       "4                                              978.4      \n",
       "\n",
       "   Fine Aggregate (component 7)(kg in a m^3 mixture)  Age (day)  \\\n",
       "0                                              676.0         28   \n",
       "1                                              676.0         28   \n",
       "2                                              594.0        270   \n",
       "3                                              594.0        365   \n",
       "4                                              825.5        360   \n",
       "\n",
       "   Concrete compressive strength(MPa, megapascals)   \n",
       "0                                         79.986111  \n",
       "1                                         61.887366  \n",
       "2                                         40.269535  \n",
       "3                                         41.052780  \n",
       "4                                         44.296075  "
      ]
     },
     "execution_count": 10,
     "metadata": {},
     "output_type": "execute_result"
    }
   ],
   "source": [
    "arquivo.head()"
   ]
  },
  {
   "cell_type": "code",
   "execution_count": 11,
   "id": "98e94234",
   "metadata": {},
   "outputs": [
    {
     "data": {
      "text/plain": [
       "(1030, 9)"
      ]
     },
     "execution_count": 11,
     "metadata": {},
     "output_type": "execute_result"
    }
   ],
   "source": [
    "arquivo.shape"
   ]
  },
  {
   "cell_type": "code",
   "execution_count": 12,
   "id": "b6999f81",
   "metadata": {},
   "outputs": [
    {
     "name": "stdout",
     "output_type": "stream",
     "text": [
      "Cement (component 1)(kg in a m^3 mixture)                0.0\n",
      "Blast Furnace Slag (component 2)(kg in a m^3 mixture)    0.0\n",
      "Fly Ash (component 3)(kg in a m^3 mixture)               0.0\n",
      "Water  (component 4)(kg in a m^3 mixture)                0.0\n",
      "Superplasticizer (component 5)(kg in a m^3 mixture)      0.0\n",
      "Coarse Aggregate  (component 6)(kg in a m^3 mixture)     0.0\n",
      "Fine Aggregate (component 7)(kg in a m^3 mixture)        0.0\n",
      "Age (day)                                                0.0\n",
      "Concrete compressive strength(MPa, megapascals)          0.0\n",
      "dtype: float64\n"
     ]
    }
   ],
   "source": [
    "faltantes = arquivo.isnull().sum()\n",
    "faltantes_percentual = (arquivo.isnull().sum() / len(arquivo['Age (day)'])) * 100\n",
    "print(faltantes_percentual)"
   ]
  },
  {
   "cell_type": "code",
   "execution_count": 13,
   "id": "3b73f34e",
   "metadata": {},
   "outputs": [
    {
     "data": {
      "text/plain": [
       "Cement (component 1)(kg in a m^3 mixture)                float64\n",
       "Blast Furnace Slag (component 2)(kg in a m^3 mixture)    float64\n",
       "Fly Ash (component 3)(kg in a m^3 mixture)               float64\n",
       "Water  (component 4)(kg in a m^3 mixture)                float64\n",
       "Superplasticizer (component 5)(kg in a m^3 mixture)      float64\n",
       "Coarse Aggregate  (component 6)(kg in a m^3 mixture)     float64\n",
       "Fine Aggregate (component 7)(kg in a m^3 mixture)        float64\n",
       "Age (day)                                                  int64\n",
       "Concrete compressive strength(MPa, megapascals)          float64\n",
       "dtype: object"
      ]
     },
     "execution_count": 13,
     "metadata": {},
     "output_type": "execute_result"
    }
   ],
   "source": [
    "arquivo.dtypes"
   ]
  },
  {
   "cell_type": "code",
   "execution_count": 14,
   "id": "1249579f",
   "metadata": {},
   "outputs": [],
   "source": [
    "#Definindo variáveis preditoras e variável target\n",
    "y = arquivo['Concrete compressive strength(MPa, megapascals) ']\n",
    "x = arquivo.drop('Concrete compressive strength(MPa, megapascals) ', axis=1)#Cuidado, pois alguns datasets possuem espaço no final da coluna"
   ]
  },
  {
   "cell_type": "code",
   "execution_count": 15,
   "id": "133d811c",
   "metadata": {},
   "outputs": [
    {
     "name": "stdout",
     "output_type": "stream",
     "text": [
      "0.40178385796237465\n"
     ]
    }
   ],
   "source": [
    "from sklearn.svm import SVR #Regressao SVR e Classificação SVC\n",
    "from sklearn.model_selection import KFold\n",
    "from sklearn.model_selection import cross_val_score\n",
    "from sklearn.preprocessing import MinMaxScaler\n",
    "\n",
    "#Normalizando as variáveis preditoras:\n",
    "normalizador = MinMaxScaler(feature_range = (0,1))\n",
    "X_norm = normalizador.fit_transform(x)\n",
    "\n",
    "#Criação do modelo:\n",
    "modelo = SVR()\n",
    "kfold = KFold(n_splits=3)\n",
    "resultado = cross_val_score(modelo,X_norm,y,cv = kfold, n_jobs=-1)\n",
    "print(resultado.mean())"
   ]
  },
  {
   "cell_type": "code",
   "execution_count": 20,
   "id": "f2f59fda",
   "metadata": {},
   "outputs": [
    {
     "name": "stdout",
     "output_type": "stream",
     "text": [
      "Melhor valor constante:  2.0\n",
      "Melhor kernel:  poly\n",
      "Melhor grau polinômio:  4\n",
      "Melhor epsilon:  0.05\n",
      "R2:  0.7938028012152624\n"
     ]
    }
   ],
   "source": [
    "import numpy as np\n",
    "from sklearn.model_selection import GridSearchCV\n",
    "\n",
    "#Definindo os valores que serão testados em SVM:\n",
    "c = np.array([1.0, 0.95, 1.05, 1.1, 1.2, 2, 0.9, 0.8])\n",
    "kernel = ['linear', 'poly', 'rbf', 'sigmoid']\n",
    "polinomio = np.array([2, 3, 4])\n",
    "epsilon = np.array([0.1, 0.2, 0.05])\n",
    "valores_grid = {'C' : c, 'kernel' : kernel, 'degree': polinomio, 'epsilon':epsilon}\n",
    "\n",
    "#Criação do modelo:\n",
    "modelo = SVR()\n",
    "\n",
    "#Criando os grids:\n",
    "kfold = KFold(n_splits=3, shuffle=True)\n",
    "gridSVM = GridSearchCV(estimator = modelo, param_grid = valores_grid, cv=kfold, n_jobs=-1)\n",
    "gridSVM.fit(X_norm,y)\n",
    "\n",
    "#Imprimindo os melhores parâmetros:\n",
    "print (\"Melhor valor constante: \", gridSVM.best_estimator_.C)\n",
    "print (\"Melhor kernel: \", gridSVM.best_estimator_.kernel)\n",
    "print (\"Melhor grau polinômio: \", gridSVM.best_estimator_.degree)\n",
    "print (\"Melhor epsilon: \", gridSVM.best_estimator_.epsilon)\n",
    "print (\"R2: \", gridSVM.best_score_)"
   ]
  },
  {
   "cell_type": "code",
   "execution_count": 21,
   "id": "6bac6015",
   "metadata": {},
   "outputs": [
    {
     "name": "stdout",
     "output_type": "stream",
     "text": [
      "Melhor valor constante:  32\n",
      "Melhor kernel:  poly\n",
      "Melhor grau polinômio:  4\n",
      "Melhor epsilon:  0.5\n",
      "R2:  0.8414995679916993\n"
     ]
    }
   ],
   "source": [
    "import numpy as np\n",
    "from sklearn.model_selection import GridSearchCV\n",
    "\n",
    "#Definindo os valores que serão testados em SVM:\n",
    "c = np.array([2, 4, 8, 16, 32])\n",
    "kernel = ['linear', 'poly', 'rbf', 'sigmoid']\n",
    "polinomio = np.array([2, 3, 4])\n",
    "epsilon = np.array([0.2, 0.3, 0.4, 0.5])\n",
    "valores_grid = {'C' : c, 'kernel' : kernel, 'degree': polinomio, 'epsilon':epsilon}\n",
    "\n",
    "#Criação do modelo:\n",
    "modelo = SVR()\n",
    "\n",
    "#Criando os grids:\n",
    "kfold = KFold(n_splits=3, shuffle=True)\n",
    "gridSVM = GridSearchCV(estimator = modelo, param_grid = valores_grid, cv=kfold, n_jobs=-1)\n",
    "gridSVM.fit(X_norm,y)\n",
    "\n",
    "#Imprimindo os melhores parâmetros:\n",
    "print (\"Melhor valor constante: \", gridSVM.best_estimator_.C)\n",
    "print (\"Melhor kernel: \", gridSVM.best_estimator_.kernel)\n",
    "print (\"Melhor grau polinômio: \", gridSVM.best_estimator_.degree)\n",
    "print (\"Melhor epsilon: \", gridSVM.best_estimator_.epsilon)\n",
    "print (\"R2: \", gridSVM.best_score_)"
   ]
  }
 ],
 "metadata": {
  "kernelspec": {
   "display_name": "Python 3 (ipykernel)",
   "language": "python",
   "name": "python3"
  },
  "language_info": {
   "codemirror_mode": {
    "name": "ipython",
    "version": 3
   },
   "file_extension": ".py",
   "mimetype": "text/x-python",
   "name": "python",
   "nbconvert_exporter": "python",
   "pygments_lexer": "ipython3",
   "version": "3.9.13"
  }
 },
 "nbformat": 4,
 "nbformat_minor": 5
}
