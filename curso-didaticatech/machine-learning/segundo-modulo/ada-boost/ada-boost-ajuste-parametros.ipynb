{
 "cells": [
  {
   "cell_type": "code",
   "execution_count": 12,
   "id": "828c7321",
   "metadata": {},
   "outputs": [],
   "source": [
    "import pandas as pd\n",
    "import warnings\n",
    "warnings.filterwarnings('ignore')\n",
    "pd.set_option('display.max_columns', 23)\n",
    "arquivo = pd.read_csv('D:/Github/data-science/machine-learning/segundo-modulo/ada-boost/recipedata.csv', encoding = \"ISO-8859-1\")"
   ]
  },
  {
   "cell_type": "code",
   "execution_count": 13,
   "id": "0e3f99b9",
   "metadata": {},
   "outputs": [
    {
     "data": {
      "text/plain": [
       "(73861, 23)"
      ]
     },
     "execution_count": 13,
     "metadata": {},
     "output_type": "execute_result"
    }
   ],
   "source": [
    "arquivo.shape"
   ]
  },
  {
   "cell_type": "code",
   "execution_count": 14,
   "id": "9c8e41da",
   "metadata": {},
   "outputs": [],
   "source": [
    "selecao = arquivo.loc[arquivo['StyleID'].isin([7, 10, 134, 9, 4, 30, 86, 12, 92, 6, 175, 39])]\n",
    "selecao.drop(['BeerID', 'Name', 'URL', 'Style', 'UserId', 'PrimingMethod', 'PrimingAmount'], axis = 1, inplace = True)"
   ]
  },
  {
   "cell_type": "code",
   "execution_count": 15,
   "id": "8a807ecd",
   "metadata": {},
   "outputs": [
    {
     "data": {
      "text/html": [
       "<div>\n",
       "<style scoped>\n",
       "    .dataframe tbody tr th:only-of-type {\n",
       "        vertical-align: middle;\n",
       "    }\n",
       "\n",
       "    .dataframe tbody tr th {\n",
       "        vertical-align: top;\n",
       "    }\n",
       "\n",
       "    .dataframe thead th {\n",
       "        text-align: right;\n",
       "    }\n",
       "</style>\n",
       "<table border=\"1\" class=\"dataframe\">\n",
       "  <thead>\n",
       "    <tr style=\"text-align: right;\">\n",
       "      <th></th>\n",
       "      <th>StyleID</th>\n",
       "      <th>Size(L)</th>\n",
       "      <th>OG</th>\n",
       "      <th>FG</th>\n",
       "      <th>ABV</th>\n",
       "      <th>IBU</th>\n",
       "      <th>Color</th>\n",
       "      <th>BoilSize</th>\n",
       "      <th>BoilTime</th>\n",
       "      <th>BoilGravity</th>\n",
       "      <th>Efficiency</th>\n",
       "      <th>MashThickness</th>\n",
       "      <th>SugarScale</th>\n",
       "      <th>BrewMethod</th>\n",
       "      <th>PitchRate</th>\n",
       "      <th>PrimaryTemp</th>\n",
       "    </tr>\n",
       "  </thead>\n",
       "  <tbody>\n",
       "    <tr>\n",
       "      <th>2</th>\n",
       "      <td>7</td>\n",
       "      <td>18.93</td>\n",
       "      <td>1.063</td>\n",
       "      <td>1.018</td>\n",
       "      <td>5.91</td>\n",
       "      <td>59.25</td>\n",
       "      <td>8.98</td>\n",
       "      <td>22.71</td>\n",
       "      <td>60</td>\n",
       "      <td>NaN</td>\n",
       "      <td>70.0</td>\n",
       "      <td>NaN</td>\n",
       "      <td>Specific Gravity</td>\n",
       "      <td>extract</td>\n",
       "      <td>NaN</td>\n",
       "      <td>NaN</td>\n",
       "    </tr>\n",
       "    <tr>\n",
       "      <th>3</th>\n",
       "      <td>7</td>\n",
       "      <td>22.71</td>\n",
       "      <td>1.061</td>\n",
       "      <td>1.017</td>\n",
       "      <td>5.80</td>\n",
       "      <td>54.48</td>\n",
       "      <td>8.50</td>\n",
       "      <td>26.50</td>\n",
       "      <td>60</td>\n",
       "      <td>NaN</td>\n",
       "      <td>70.0</td>\n",
       "      <td>NaN</td>\n",
       "      <td>Specific Gravity</td>\n",
       "      <td>All Grain</td>\n",
       "      <td>NaN</td>\n",
       "      <td>NaN</td>\n",
       "    </tr>\n",
       "    <tr>\n",
       "      <th>5</th>\n",
       "      <td>10</td>\n",
       "      <td>24.61</td>\n",
       "      <td>1.055</td>\n",
       "      <td>1.013</td>\n",
       "      <td>5.58</td>\n",
       "      <td>40.12</td>\n",
       "      <td>8.00</td>\n",
       "      <td>29.34</td>\n",
       "      <td>70</td>\n",
       "      <td>1.047</td>\n",
       "      <td>79.0</td>\n",
       "      <td>NaN</td>\n",
       "      <td>Specific Gravity</td>\n",
       "      <td>All Grain</td>\n",
       "      <td>1.0</td>\n",
       "      <td>NaN</td>\n",
       "    </tr>\n",
       "  </tbody>\n",
       "</table>\n",
       "</div>"
      ],
      "text/plain": [
       "   StyleID  Size(L)     OG     FG   ABV    IBU  Color  BoilSize  BoilTime  \\\n",
       "2        7    18.93  1.063  1.018  5.91  59.25   8.98     22.71        60   \n",
       "3        7    22.71  1.061  1.017  5.80  54.48   8.50     26.50        60   \n",
       "5       10    24.61  1.055  1.013  5.58  40.12   8.00     29.34        70   \n",
       "\n",
       "   BoilGravity  Efficiency  MashThickness        SugarScale BrewMethod  \\\n",
       "2          NaN        70.0            NaN  Specific Gravity    extract   \n",
       "3          NaN        70.0            NaN  Specific Gravity  All Grain   \n",
       "5        1.047        79.0            NaN  Specific Gravity  All Grain   \n",
       "\n",
       "   PitchRate  PrimaryTemp  \n",
       "2        NaN          NaN  \n",
       "3        NaN          NaN  \n",
       "5        1.0          NaN  "
      ]
     },
     "execution_count": 15,
     "metadata": {},
     "output_type": "execute_result"
    }
   ],
   "source": [
    "selecao.head(3)"
   ]
  },
  {
   "cell_type": "code",
   "execution_count": 16,
   "id": "ab287762",
   "metadata": {},
   "outputs": [],
   "source": [
    "selecao['SugarScale'] = selecao['SugarScale'].replace('Specific Gravity', 0)\n",
    "selecao['SugarScale'] = selecao['SugarScale'].replace('Plato', 1)\n",
    "\n",
    "#Transformando variáveis texto na coluna 'BrewMethod' em categorias com one hot enconding\n",
    "brewmethod_encode = pd.get_dummies(selecao['BrewMethod'])\n",
    "\n",
    "#Excluindo a coluna de texto 'BrewMethod'\n",
    "selecao.drop('BrewMethod', axis = 1, inplace = True)\n",
    "\n",
    "#Inserindo as variaveis one hot encode novamente no dataset\n",
    "concatenado = pd.concat([selecao, brewmethod_encode], axis=1)"
   ]
  },
  {
   "cell_type": "code",
   "execution_count": 17,
   "id": "bcb5e76d",
   "metadata": {},
   "outputs": [],
   "source": [
    "concatenado['PitchRate'].fillna(concatenado['PitchRate'].mean(), inplace=True)\n",
    "concatenado.fillna(concatenado.median(), inplace=True)"
   ]
  },
  {
   "cell_type": "code",
   "execution_count": 18,
   "id": "596330ac",
   "metadata": {},
   "outputs": [],
   "source": [
    "#Definindo variáveis preditoras e variável target\n",
    "y = concatenado['StyleID']\n",
    "x = concatenado.drop('StyleID', axis=1)"
   ]
  },
  {
   "cell_type": "code",
   "execution_count": 19,
   "id": "26274a4a",
   "metadata": {},
   "outputs": [
    {
     "name": "stdout",
     "output_type": "stream",
     "text": [
      "0.5291610207768745\n"
     ]
    }
   ],
   "source": [
    "from sklearn.ensemble import AdaBoostClassifier\n",
    "from sklearn.model_selection import StratifiedKFold\n",
    "from sklearn.model_selection import cross_val_score\n",
    "\n",
    "#Criação do modelo:\n",
    "modelo = AdaBoostClassifier()\n",
    "skfold = StratifiedKFold(n_splits=3)\n",
    "resultado = cross_val_score(modelo,x,y,cv = skfold, n_jobs=-1)\n",
    "print(resultado.mean())"
   ]
  },
  {
   "cell_type": "code",
   "execution_count": 21,
   "id": "cb803f6a",
   "metadata": {},
   "outputs": [
    {
     "name": "stdout",
     "output_type": "stream",
     "text": [
      "Melhor taxa de aprendizagem:  0.4\n",
      "Acurácia:  0.48007000903342373\n"
     ]
    }
   ],
   "source": [
    "import numpy as np\n",
    "from sklearn.model_selection import GridSearchCV\n",
    "\n",
    "#Definindo os valores que serão testados em Adaboost:\n",
    "valores_grid = {'learning_rate': np.array([0.9, 0.8, 0.7, 0.6, 0.5, 0.4])}\n",
    "\n",
    "#Criação do modelo:\n",
    "modelo = AdaBoostClassifier(n_estimators=500)\n",
    "\n",
    "#Criando os grids:\n",
    "gridAdaBoost = GridSearchCV(estimator = modelo, param_grid = valores_grid, cv=3, n_jobs=-1)\n",
    "gridAdaBoost.fit(x,y)\n",
    "\n",
    "#Imprimindo os melhores parâmetros:\n",
    "print (\"Melhor taxa de aprendizagem: \", gridAdaBoost.best_estimator_.learning_rate)\n",
    "print (\"Acurácia: \", gridAdaBoost.best_score_)"
   ]
  },
  {
   "cell_type": "code",
   "execution_count": 22,
   "id": "a1f77fd6",
   "metadata": {},
   "outputs": [
    {
     "name": "stdout",
     "output_type": "stream",
     "text": [
      "Melhor taxa de aprendizagem:  0.1\n",
      "Acurácia:  0.5691621499548329\n"
     ]
    }
   ],
   "source": [
    "import numpy as np\n",
    "from sklearn.model_selection import GridSearchCV\n",
    "\n",
    "#Definindo os valores que serão testados em Adaboost:\n",
    "valores_grid = {'learning_rate': np.array([0.3, 0.2, 0.1, 0.05])}\n",
    "\n",
    "#Criação do modelo:\n",
    "modelo = AdaBoostClassifier(n_estimators=500)\n",
    "\n",
    "#Criando os grids:\n",
    "gridAdaBoost = GridSearchCV(estimator = modelo, param_grid = valores_grid, cv=3, n_jobs=-1)\n",
    "gridAdaBoost.fit(x,y)\n",
    "\n",
    "#Imprimindo os melhores parâmetros:\n",
    "print (\"Melhor taxa de aprendizagem: \", gridAdaBoost.best_estimator_.learning_rate)\n",
    "print (\"Acurácia: \", gridAdaBoost.best_score_)"
   ]
  },
  {
   "cell_type": "code",
   "execution_count": null,
   "id": "e69187a4",
   "metadata": {},
   "outputs": [],
   "source": []
  }
 ],
 "metadata": {
  "kernelspec": {
   "display_name": "Python 3 (ipykernel)",
   "language": "python",
   "name": "python3"
  },
  "language_info": {
   "codemirror_mode": {
    "name": "ipython",
    "version": 3
   },
   "file_extension": ".py",
   "mimetype": "text/x-python",
   "name": "python",
   "nbconvert_exporter": "python",
   "pygments_lexer": "ipython3",
   "version": "3.9.13"
  }
 },
 "nbformat": 4,
 "nbformat_minor": 5
}
