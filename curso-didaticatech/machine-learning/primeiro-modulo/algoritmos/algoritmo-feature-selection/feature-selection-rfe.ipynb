{
 "cells": [
  {
   "cell_type": "code",
   "execution_count": 2,
   "id": "0a380a01",
   "metadata": {},
   "outputs": [
    {
     "name": "stdout",
     "output_type": "stream",
     "text": [
      "   GRE Score  TOEFL Score  University Rating  SOP  LOR   CGPA  Research  Chance of Admit \n",
      "0        337          118                  4  4.5   4.5  9.65         1              0.92\n",
      "1        324          107                  4  4.0   4.5  8.87         1              0.76\n",
      "2        316          104                  3  3.0   3.5  8.00         1              0.72\n",
      "3        322          110                  3  3.5   2.5  8.67         1              0.80\n",
      "4        314          103                  2  2.0   3.0  8.21         0              0.65\n"
     ]
    }
   ],
   "source": [
    "import pandas as pd\n",
    "from sklearn.feature_selection import RFE\n",
    "from sklearn.linear_model import Ridge\n",
    "pd.set_option('display.max_columns', 10)\n",
    "pd.set_option('display.width', 320)\n",
    "arquivo = pd.read_csv('D:/Github/data-science/machine-learning/algoritmos/algoritmo-feature-selection/admission_predict.csv')\n",
    "arquivo.drop('Serial No.', axis=1, inplace=True)\n",
    "print(arquivo.head())"
   ]
  },
  {
   "cell_type": "code",
   "execution_count": 6,
   "id": "20bae17a",
   "metadata": {},
   "outputs": [
    {
     "name": "stdout",
     "output_type": "stream",
     "text": [
      "Número de atribustos: 5\n",
      "Atributos selecionados: [False  True  True False  True  True  True]\n",
      "Ranking dos atributos: [3 1 1 2 1 1 1]\n"
     ]
    }
   ],
   "source": [
    "#Separando as variaveis entre preditoras e variavel target\n",
    "y = arquivo['Chance of Admit ']\n",
    "x = arquivo.drop('Chance of Admit ', axis = 1)\n",
    "\n",
    "#Definindo o algoritmo de Machine learning que será utilizado:\n",
    "modelo = Ridge()\n",
    "\n",
    "#RFE:\n",
    "rfe = RFE(estimator=modelo, n_features_to_select=5)\n",
    "fit = rfe.fit(x,y)\n",
    "\n",
    "#Mostrando os resultados:\n",
    "print('Número de atribustos:', fit.n_features_)\n",
    "print('Atributos selecionados:', fit.support_)\n",
    "print('Ranking dos atributos:', fit.ranking_)"
   ]
  },
  {
   "cell_type": "code",
   "execution_count": 7,
   "id": "13afee3f",
   "metadata": {},
   "outputs": [
    {
     "name": "stdout",
     "output_type": "stream",
     "text": [
      "Número de atribustos: 5\n",
      "Atributos selecionados: [ True  True False  True  True  True False]\n",
      "Ranking dos atributos: [1 1 3 1 1 1 2]\n"
     ]
    }
   ],
   "source": [
    "from sklearn.tree import DecisionTreeRegressor\n",
    "\n",
    "#Separando as variaveis entre preditoras e variavel target\n",
    "y = arquivo['Chance of Admit ']\n",
    "x = arquivo.drop('Chance of Admit ', axis = 1)\n",
    "\n",
    "#Definindo o algoritmo de Machine learning que será utilizado:\n",
    "modelo = DecisionTreeRegressor()\n",
    "\n",
    "#RFE:\n",
    "rfe = RFE(estimator=modelo, n_features_to_select=5)\n",
    "fit = rfe.fit(x,y)\n",
    "\n",
    "#Mostrando os resultados:\n",
    "print('Número de atribustos:', fit.n_features_)\n",
    "print('Atributos selecionados:', fit.support_)\n",
    "print('Ranking dos atributos:', fit.ranking_)"
   ]
  }
 ],
 "metadata": {
  "kernelspec": {
   "display_name": "Python 3 (ipykernel)",
   "language": "python",
   "name": "python3"
  },
  "language_info": {
   "codemirror_mode": {
    "name": "ipython",
    "version": 3
   },
   "file_extension": ".py",
   "mimetype": "text/x-python",
   "name": "python",
   "nbconvert_exporter": "python",
   "pygments_lexer": "ipython3",
   "version": "3.9.13"
  }
 },
 "nbformat": 4,
 "nbformat_minor": 5
}
