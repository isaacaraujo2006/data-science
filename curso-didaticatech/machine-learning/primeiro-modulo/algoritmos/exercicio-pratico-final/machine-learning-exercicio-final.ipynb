{
 "cells": [
  {
   "cell_type": "code",
   "execution_count": 74,
   "id": "2bdbfd6f",
   "metadata": {},
   "outputs": [
    {
     "ename": "UnicodeDecodeError",
     "evalue": "'utf-8' codec can't decode byte 0xe8 in position 9775: invalid continuation byte",
     "output_type": "error",
     "traceback": [
      "\u001b[1;31m---------------------------------------------------------------------------\u001b[0m",
      "\u001b[1;31mUnicodeDecodeError\u001b[0m                        Traceback (most recent call last)",
      "\u001b[1;32m~\\AppData\\Local\\Temp\\ipykernel_16072\\2858213776.py\u001b[0m in \u001b[0;36m<module>\u001b[1;34m\u001b[0m\n\u001b[0;32m      3\u001b[0m \u001b[0mwarnings\u001b[0m\u001b[1;33m.\u001b[0m\u001b[0mfilterwarnings\u001b[0m\u001b[1;33m(\u001b[0m\u001b[1;34m'ignore'\u001b[0m\u001b[1;33m)\u001b[0m\u001b[1;33m\u001b[0m\u001b[1;33m\u001b[0m\u001b[0m\n\u001b[0;32m      4\u001b[0m \u001b[0mpd\u001b[0m\u001b[1;33m.\u001b[0m\u001b[0mset_option\u001b[0m\u001b[1;33m(\u001b[0m\u001b[1;34m'display.max_columns'\u001b[0m\u001b[1;33m,\u001b[0m\u001b[1;36m23\u001b[0m\u001b[1;33m)\u001b[0m\u001b[1;33m\u001b[0m\u001b[1;33m\u001b[0m\u001b[0m\n\u001b[1;32m----> 5\u001b[1;33m \u001b[0marquivo\u001b[0m \u001b[1;33m=\u001b[0m \u001b[0mpd\u001b[0m\u001b[1;33m.\u001b[0m\u001b[0mread_csv\u001b[0m\u001b[1;33m(\u001b[0m\u001b[1;34m'D:/Github/data-science/machine-learning/algoritmos/exercicio-pratico-final/recipeData.csv'\u001b[0m\u001b[1;33m)\u001b[0m\u001b[1;33m\u001b[0m\u001b[1;33m\u001b[0m\u001b[0m\n\u001b[0m",
      "\u001b[1;32mD:\\Users\\alanj\\AppData\\Local\\Programs\\Anaconda\\lib\\site-packages\\pandas\\util\\_decorators.py\u001b[0m in \u001b[0;36mwrapper\u001b[1;34m(*args, **kwargs)\u001b[0m\n\u001b[0;32m    309\u001b[0m                     \u001b[0mstacklevel\u001b[0m\u001b[1;33m=\u001b[0m\u001b[0mstacklevel\u001b[0m\u001b[1;33m,\u001b[0m\u001b[1;33m\u001b[0m\u001b[1;33m\u001b[0m\u001b[0m\n\u001b[0;32m    310\u001b[0m                 )\n\u001b[1;32m--> 311\u001b[1;33m             \u001b[1;32mreturn\u001b[0m \u001b[0mfunc\u001b[0m\u001b[1;33m(\u001b[0m\u001b[1;33m*\u001b[0m\u001b[0margs\u001b[0m\u001b[1;33m,\u001b[0m \u001b[1;33m**\u001b[0m\u001b[0mkwargs\u001b[0m\u001b[1;33m)\u001b[0m\u001b[1;33m\u001b[0m\u001b[1;33m\u001b[0m\u001b[0m\n\u001b[0m\u001b[0;32m    312\u001b[0m \u001b[1;33m\u001b[0m\u001b[0m\n\u001b[0;32m    313\u001b[0m         \u001b[1;32mreturn\u001b[0m \u001b[0mwrapper\u001b[0m\u001b[1;33m\u001b[0m\u001b[1;33m\u001b[0m\u001b[0m\n",
      "\u001b[1;32mD:\\Users\\alanj\\AppData\\Local\\Programs\\Anaconda\\lib\\site-packages\\pandas\\io\\parsers\\readers.py\u001b[0m in \u001b[0;36mread_csv\u001b[1;34m(filepath_or_buffer, sep, delimiter, header, names, index_col, usecols, squeeze, prefix, mangle_dupe_cols, dtype, engine, converters, true_values, false_values, skipinitialspace, skiprows, skipfooter, nrows, na_values, keep_default_na, na_filter, verbose, skip_blank_lines, parse_dates, infer_datetime_format, keep_date_col, date_parser, dayfirst, cache_dates, iterator, chunksize, compression, thousands, decimal, lineterminator, quotechar, quoting, doublequote, escapechar, comment, encoding, encoding_errors, dialect, error_bad_lines, warn_bad_lines, on_bad_lines, delim_whitespace, low_memory, memory_map, float_precision, storage_options)\u001b[0m\n\u001b[0;32m    676\u001b[0m     \u001b[0mkwds\u001b[0m\u001b[1;33m.\u001b[0m\u001b[0mupdate\u001b[0m\u001b[1;33m(\u001b[0m\u001b[0mkwds_defaults\u001b[0m\u001b[1;33m)\u001b[0m\u001b[1;33m\u001b[0m\u001b[1;33m\u001b[0m\u001b[0m\n\u001b[0;32m    677\u001b[0m \u001b[1;33m\u001b[0m\u001b[0m\n\u001b[1;32m--> 678\u001b[1;33m     \u001b[1;32mreturn\u001b[0m \u001b[0m_read\u001b[0m\u001b[1;33m(\u001b[0m\u001b[0mfilepath_or_buffer\u001b[0m\u001b[1;33m,\u001b[0m \u001b[0mkwds\u001b[0m\u001b[1;33m)\u001b[0m\u001b[1;33m\u001b[0m\u001b[1;33m\u001b[0m\u001b[0m\n\u001b[0m\u001b[0;32m    679\u001b[0m \u001b[1;33m\u001b[0m\u001b[0m\n\u001b[0;32m    680\u001b[0m \u001b[1;33m\u001b[0m\u001b[0m\n",
      "\u001b[1;32mD:\\Users\\alanj\\AppData\\Local\\Programs\\Anaconda\\lib\\site-packages\\pandas\\io\\parsers\\readers.py\u001b[0m in \u001b[0;36m_read\u001b[1;34m(filepath_or_buffer, kwds)\u001b[0m\n\u001b[0;32m    573\u001b[0m \u001b[1;33m\u001b[0m\u001b[0m\n\u001b[0;32m    574\u001b[0m     \u001b[1;31m# Create the parser.\u001b[0m\u001b[1;33m\u001b[0m\u001b[1;33m\u001b[0m\u001b[0m\n\u001b[1;32m--> 575\u001b[1;33m     \u001b[0mparser\u001b[0m \u001b[1;33m=\u001b[0m \u001b[0mTextFileReader\u001b[0m\u001b[1;33m(\u001b[0m\u001b[0mfilepath_or_buffer\u001b[0m\u001b[1;33m,\u001b[0m \u001b[1;33m**\u001b[0m\u001b[0mkwds\u001b[0m\u001b[1;33m)\u001b[0m\u001b[1;33m\u001b[0m\u001b[1;33m\u001b[0m\u001b[0m\n\u001b[0m\u001b[0;32m    576\u001b[0m \u001b[1;33m\u001b[0m\u001b[0m\n\u001b[0;32m    577\u001b[0m     \u001b[1;32mif\u001b[0m \u001b[0mchunksize\u001b[0m \u001b[1;32mor\u001b[0m \u001b[0miterator\u001b[0m\u001b[1;33m:\u001b[0m\u001b[1;33m\u001b[0m\u001b[1;33m\u001b[0m\u001b[0m\n",
      "\u001b[1;32mD:\\Users\\alanj\\AppData\\Local\\Programs\\Anaconda\\lib\\site-packages\\pandas\\io\\parsers\\readers.py\u001b[0m in \u001b[0;36m__init__\u001b[1;34m(self, f, engine, **kwds)\u001b[0m\n\u001b[0;32m    930\u001b[0m \u001b[1;33m\u001b[0m\u001b[0m\n\u001b[0;32m    931\u001b[0m         \u001b[0mself\u001b[0m\u001b[1;33m.\u001b[0m\u001b[0mhandles\u001b[0m\u001b[1;33m:\u001b[0m \u001b[0mIOHandles\u001b[0m \u001b[1;33m|\u001b[0m \u001b[1;32mNone\u001b[0m \u001b[1;33m=\u001b[0m \u001b[1;32mNone\u001b[0m\u001b[1;33m\u001b[0m\u001b[1;33m\u001b[0m\u001b[0m\n\u001b[1;32m--> 932\u001b[1;33m         \u001b[0mself\u001b[0m\u001b[1;33m.\u001b[0m\u001b[0m_engine\u001b[0m \u001b[1;33m=\u001b[0m \u001b[0mself\u001b[0m\u001b[1;33m.\u001b[0m\u001b[0m_make_engine\u001b[0m\u001b[1;33m(\u001b[0m\u001b[0mf\u001b[0m\u001b[1;33m,\u001b[0m \u001b[0mself\u001b[0m\u001b[1;33m.\u001b[0m\u001b[0mengine\u001b[0m\u001b[1;33m)\u001b[0m\u001b[1;33m\u001b[0m\u001b[1;33m\u001b[0m\u001b[0m\n\u001b[0m\u001b[0;32m    933\u001b[0m \u001b[1;33m\u001b[0m\u001b[0m\n\u001b[0;32m    934\u001b[0m     \u001b[1;32mdef\u001b[0m \u001b[0mclose\u001b[0m\u001b[1;33m(\u001b[0m\u001b[0mself\u001b[0m\u001b[1;33m)\u001b[0m\u001b[1;33m:\u001b[0m\u001b[1;33m\u001b[0m\u001b[1;33m\u001b[0m\u001b[0m\n",
      "\u001b[1;32mD:\\Users\\alanj\\AppData\\Local\\Programs\\Anaconda\\lib\\site-packages\\pandas\\io\\parsers\\readers.py\u001b[0m in \u001b[0;36m_make_engine\u001b[1;34m(self, f, engine)\u001b[0m\n\u001b[0;32m   1232\u001b[0m \u001b[1;33m\u001b[0m\u001b[0m\n\u001b[0;32m   1233\u001b[0m         \u001b[1;32mtry\u001b[0m\u001b[1;33m:\u001b[0m\u001b[1;33m\u001b[0m\u001b[1;33m\u001b[0m\u001b[0m\n\u001b[1;32m-> 1234\u001b[1;33m             \u001b[1;32mreturn\u001b[0m \u001b[0mmapping\u001b[0m\u001b[1;33m[\u001b[0m\u001b[0mengine\u001b[0m\u001b[1;33m]\u001b[0m\u001b[1;33m(\u001b[0m\u001b[0mf\u001b[0m\u001b[1;33m,\u001b[0m \u001b[1;33m**\u001b[0m\u001b[0mself\u001b[0m\u001b[1;33m.\u001b[0m\u001b[0moptions\u001b[0m\u001b[1;33m)\u001b[0m\u001b[1;33m\u001b[0m\u001b[1;33m\u001b[0m\u001b[0m\n\u001b[0m\u001b[0;32m   1235\u001b[0m         \u001b[1;32mexcept\u001b[0m \u001b[0mException\u001b[0m\u001b[1;33m:\u001b[0m\u001b[1;33m\u001b[0m\u001b[1;33m\u001b[0m\u001b[0m\n\u001b[0;32m   1236\u001b[0m             \u001b[1;32mif\u001b[0m \u001b[0mself\u001b[0m\u001b[1;33m.\u001b[0m\u001b[0mhandles\u001b[0m \u001b[1;32mis\u001b[0m \u001b[1;32mnot\u001b[0m \u001b[1;32mNone\u001b[0m\u001b[1;33m:\u001b[0m\u001b[1;33m\u001b[0m\u001b[1;33m\u001b[0m\u001b[0m\n",
      "\u001b[1;32mD:\\Users\\alanj\\AppData\\Local\\Programs\\Anaconda\\lib\\site-packages\\pandas\\io\\parsers\\c_parser_wrapper.py\u001b[0m in \u001b[0;36m__init__\u001b[1;34m(self, src, **kwds)\u001b[0m\n\u001b[0;32m     73\u001b[0m \u001b[1;33m\u001b[0m\u001b[0m\n\u001b[0;32m     74\u001b[0m         \u001b[0mkwds\u001b[0m\u001b[1;33m[\u001b[0m\u001b[1;34m\"dtype\"\u001b[0m\u001b[1;33m]\u001b[0m \u001b[1;33m=\u001b[0m \u001b[0mensure_dtype_objs\u001b[0m\u001b[1;33m(\u001b[0m\u001b[0mkwds\u001b[0m\u001b[1;33m.\u001b[0m\u001b[0mget\u001b[0m\u001b[1;33m(\u001b[0m\u001b[1;34m\"dtype\"\u001b[0m\u001b[1;33m,\u001b[0m \u001b[1;32mNone\u001b[0m\u001b[1;33m)\u001b[0m\u001b[1;33m)\u001b[0m\u001b[1;33m\u001b[0m\u001b[1;33m\u001b[0m\u001b[0m\n\u001b[1;32m---> 75\u001b[1;33m         \u001b[0mself\u001b[0m\u001b[1;33m.\u001b[0m\u001b[0m_reader\u001b[0m \u001b[1;33m=\u001b[0m \u001b[0mparsers\u001b[0m\u001b[1;33m.\u001b[0m\u001b[0mTextReader\u001b[0m\u001b[1;33m(\u001b[0m\u001b[0msrc\u001b[0m\u001b[1;33m,\u001b[0m \u001b[1;33m**\u001b[0m\u001b[0mkwds\u001b[0m\u001b[1;33m)\u001b[0m\u001b[1;33m\u001b[0m\u001b[1;33m\u001b[0m\u001b[0m\n\u001b[0m\u001b[0;32m     76\u001b[0m \u001b[1;33m\u001b[0m\u001b[0m\n\u001b[0;32m     77\u001b[0m         \u001b[0mself\u001b[0m\u001b[1;33m.\u001b[0m\u001b[0munnamed_cols\u001b[0m \u001b[1;33m=\u001b[0m \u001b[0mself\u001b[0m\u001b[1;33m.\u001b[0m\u001b[0m_reader\u001b[0m\u001b[1;33m.\u001b[0m\u001b[0munnamed_cols\u001b[0m\u001b[1;33m\u001b[0m\u001b[1;33m\u001b[0m\u001b[0m\n",
      "\u001b[1;32mD:\\Users\\alanj\\AppData\\Local\\Programs\\Anaconda\\lib\\site-packages\\pandas\\_libs\\parsers.pyx\u001b[0m in \u001b[0;36mpandas._libs.parsers.TextReader.__cinit__\u001b[1;34m()\u001b[0m\n",
      "\u001b[1;32mD:\\Users\\alanj\\AppData\\Local\\Programs\\Anaconda\\lib\\site-packages\\pandas\\_libs\\parsers.pyx\u001b[0m in \u001b[0;36mpandas._libs.parsers.TextReader._get_header\u001b[1;34m()\u001b[0m\n",
      "\u001b[1;32mD:\\Users\\alanj\\AppData\\Local\\Programs\\Anaconda\\lib\\site-packages\\pandas\\_libs\\parsers.pyx\u001b[0m in \u001b[0;36mpandas._libs.parsers.TextReader._tokenize_rows\u001b[1;34m()\u001b[0m\n",
      "\u001b[1;32mD:\\Users\\alanj\\AppData\\Local\\Programs\\Anaconda\\lib\\site-packages\\pandas\\_libs\\parsers.pyx\u001b[0m in \u001b[0;36mpandas._libs.parsers.raise_parser_error\u001b[1;34m()\u001b[0m\n",
      "\u001b[1;31mUnicodeDecodeError\u001b[0m: 'utf-8' codec can't decode byte 0xe8 in position 9775: invalid continuation byte"
     ]
    }
   ],
   "source": [
    "import pandas as pd\n",
    "import warnings\n",
    "warnings.filterwarnings('ignore')\n",
    "pd.set_option('display.max_columns',23)\n",
    "arquivo = pd.read_csv('D:/Github/data-science/machine-learning/algoritmos/exercicio-pratico-final/recipeData.csv')"
   ]
  },
  {
   "cell_type": "code",
   "execution_count": null,
   "id": "2fc42ebb",
   "metadata": {},
   "outputs": [],
   "source": [
    "import pandas as pd\n",
    "import warnings\n",
    "warnings.filterwarnings('ignore')\n",
    "pd.set_option('display.max_columns',23)\n",
    "arquivo = pd.read_csv('D:/Github/data-science/machine-learning/algoritmos/exercicio-pratico-final/recipeData.csv', encoding = \"ISO-8859-1\")"
   ]
  },
  {
   "cell_type": "code",
   "execution_count": null,
   "id": "f2770660",
   "metadata": {},
   "outputs": [],
   "source": [
    "arquivo.head(3)"
   ]
  },
  {
   "cell_type": "code",
   "execution_count": null,
   "id": "de861f0c",
   "metadata": {},
   "outputs": [],
   "source": [
    "arquivo.shape"
   ]
  },
  {
   "cell_type": "code",
   "execution_count": null,
   "id": "1382a6e0",
   "metadata": {},
   "outputs": [],
   "source": [
    "faltantes = arquivo.isnull().sum()\n",
    "faltantes_percentual = (arquivo.isnull().sum() / len(arquivo['StyleID'])) * 100\n",
    "print(faltantes_percentual)"
   ]
  },
  {
   "cell_type": "code",
   "execution_count": null,
   "id": "e2b6cc8e",
   "metadata": {},
   "outputs": [],
   "source": [
    "arquivo['StyleID'].value_counts()"
   ]
  },
  {
   "cell_type": "code",
   "execution_count": null,
   "id": "ec26a932",
   "metadata": {},
   "outputs": [],
   "source": [
    "selecao = arquivo.loc[arquivo['StyleID'].isin([7, 10, 134, 9, 4, 30, 86, 12, 92, 6, 175, 39])]"
   ]
  },
  {
   "cell_type": "code",
   "execution_count": null,
   "id": "5e76e8c3",
   "metadata": {},
   "outputs": [],
   "source": [
    "selecao.shape"
   ]
  },
  {
   "cell_type": "code",
   "execution_count": null,
   "id": "f677a086",
   "metadata": {},
   "outputs": [],
   "source": [
    "selecao.drop('BeerID', axis = 1, inplace = True)\n",
    "selecao.drop('Name', axis = 1, inplace = True)\n",
    "selecao.drop('URL', axis = 1, inplace = True)\n",
    "selecao.drop('Style', axis = 1, inplace = True)\n",
    "selecao.drop('UserId', axis = 1, inplace = True)\n",
    "selecao.drop('PrimingMethod', axis = 1, inplace = True)\n",
    "selecao.drop('PrimingAmount', axis = 1, inplace = True)"
   ]
  },
  {
   "cell_type": "code",
   "execution_count": null,
   "id": "ec73cbb2",
   "metadata": {},
   "outputs": [],
   "source": [
    "selecao.head(3)"
   ]
  },
  {
   "cell_type": "code",
   "execution_count": null,
   "id": "90f89834",
   "metadata": {},
   "outputs": [],
   "source": [
    "selecao.dtypes"
   ]
  },
  {
   "cell_type": "code",
   "execution_count": null,
   "id": "931d3246",
   "metadata": {},
   "outputs": [],
   "source": [
    "arquivo['SugarScale'].value_counts()"
   ]
  },
  {
   "cell_type": "code",
   "execution_count": null,
   "id": "aeb1dba6",
   "metadata": {},
   "outputs": [],
   "source": [
    "arquivo['BrewMethod'].value_counts()"
   ]
  },
  {
   "cell_type": "code",
   "execution_count": null,
   "id": "c6c18af7",
   "metadata": {},
   "outputs": [],
   "source": [
    "selecao['SugarScale'] = selecao['SugarScale'].replace('Specific Gravity', 0)\n",
    "selecao['SugarScale'] = selecao['SugarScale'].replace('Plato', 1)"
   ]
  },
  {
   "cell_type": "code",
   "execution_count": null,
   "id": "58a2acee",
   "metadata": {},
   "outputs": [],
   "source": [
    "selecao.head(3)"
   ]
  },
  {
   "cell_type": "code",
   "execution_count": null,
   "id": "f580c2ef",
   "metadata": {},
   "outputs": [],
   "source": [
    "#Transformando variáveis texto na coluna 'BreawMethod' em categorias com one hot enconding\n",
    "brewmethod_encode = pd.get_dummies(selecao['BrewMethod'])\n",
    "\n",
    "#Excluindo a coluna de texto 'BrewMethod'\n",
    "selecao.drop('BrewMethod', axis = 1, inplace = True)\n",
    "\n",
    "#Inserindo as variaveis one hot encode novamente no dataset\n",
    "concatenado = pd.concat([selecao, brewmethod_encode], axis=1)"
   ]
  },
  {
   "cell_type": "code",
   "execution_count": null,
   "id": "abe35785",
   "metadata": {},
   "outputs": [],
   "source": [
    "concatenado.head(3)"
   ]
  },
  {
   "cell_type": "code",
   "execution_count": null,
   "id": "238aea32",
   "metadata": {},
   "outputs": [],
   "source": [
    "faltantes = concatenado.isnull().sum()\n",
    "faltantes_percentual = (concatenado.isnull().sum()) / len(concatenado['StyleID']) * 100\n",
    "print(faltantes_percentual)"
   ]
  },
  {
   "cell_type": "code",
   "execution_count": null,
   "id": "3c9ebfd1",
   "metadata": {},
   "outputs": [],
   "source": [
    "import matplotlib.pyplot as plt\n",
    "concatenado.boxplot(column= ['BoilGravity', 'MashThickness', 'PitchRate', 'PrimaryTemp'])\n",
    "plt.show()"
   ]
  },
  {
   "cell_type": "code",
   "execution_count": null,
   "id": "9c39f51c",
   "metadata": {},
   "outputs": [],
   "source": [
    "concatenado.hist(column= ['BoilGravity', 'MashThickness', 'PitchRate', 'PrimaryTemp'])\n",
    "plt.show()"
   ]
  },
  {
   "cell_type": "code",
   "execution_count": null,
   "id": "55961c53",
   "metadata": {},
   "outputs": [],
   "source": [
    "concatenado['PitchRate'].fillna(concatenado['PitchRate'].mean(), inplace=True)\n",
    "concatenado.fillna(concatenado.median(), inplace=True)"
   ]
  },
  {
   "cell_type": "code",
   "execution_count": null,
   "id": "a8e3bac9",
   "metadata": {},
   "outputs": [],
   "source": [
    "faltantes = concatenado.isnull().sum()\n",
    "faltantes_percentual = (concatenado.isnull().sum() / len(concatenado['StyleID'])) * 100\n",
    "print(faltantes_percentual)"
   ]
  },
  {
   "cell_type": "code",
   "execution_count": null,
   "id": "17ea89b2",
   "metadata": {},
   "outputs": [],
   "source": [
    "#Definindo variáveis preditoras e variável target\n",
    "y = concatenado['StyleID']\n",
    "x = concatenado.drop('StyleID', axis=1)"
   ]
  },
  {
   "cell_type": "code",
   "execution_count": null,
   "id": "eac435ed",
   "metadata": {},
   "outputs": [],
   "source": [
    "def modeloclassificacao(a,b):\n",
    "    from sklearn.linear_model import LogisticRegression\n",
    "    from sklearn.naive_bayes import GaussianNB\n",
    "    from sklearn.tree import DecisionTreeClassifier\n",
    "    from sklearn.neighbors import KNeighborsClassifier #KNN precisa de normalização\n",
    "    from sklearn.preprocessing import MinMaxScaler\n",
    "    from sklearn.model_selection import StratifiedKFold\n",
    "    from sklearn.model_selection import cross_val_score\n",
    "    skfold = StratifiedKFold(n_splits=3)\n",
    "    x = a\n",
    "    y = b\n",
    "    #Normalizando as variáveis preditoras para o KNN:\n",
    "    normalizador = MinMaxScaler(feature_range = (0, 1))\n",
    "    x_norm = normalizador.fit_transform(x)\n",
    "    \n",
    "    logist = LogisticRegression()\n",
    "    naive = GaussianNB()\n",
    "    decision_tree = DecisionTreeClassifier()\n",
    "    knn = KNeighborsClassifier()\n",
    "    resul_logist = cross_val_score(logist,x,y,cv = skfold)\n",
    "    resul_naive = cross_val_score(naive,x,y,cv = skfold)\n",
    "    resul_decision_tree = cross_val_score(decision_tree,x,y,cv = skfold)\n",
    "    resul_knn = cross_val_score(knn,x_norm,y,cv= skfold)#Recebe a variável normalizada\n",
    "    dic_classmodels = {'Logistica' :resul_logist.mean(), 'Naive' :resul_naive.mean(), 'Decision Tree' :resul_decision_tree.mean(), 'KNN' :resul_knn.mean()}\n",
    "    melhor_modelo = max(dic_classmodels, key=dic_classmodels.get)\n",
    "    print('Reg. Logística:',resul_logist.mean(), '|Naive Bayes:',resul_naive.mean(), '|Decision Tree:',resul_decision_tree.mean(), '|KNN:',resul_knn.mean())\n",
    "    print('O melhor modelo foi:', melhor_modelo, 'com o valor:', dic_classmodels[melhor_modelo])"
   ]
  },
  {
   "cell_type": "code",
   "execution_count": null,
   "id": "7fc21eb6",
   "metadata": {},
   "outputs": [],
   "source": [
    "modeloclassificacao(x,y)"
   ]
  },
  {
   "cell_type": "code",
   "execution_count": 76,
   "id": "e8093064",
   "metadata": {},
   "outputs": [
    {
     "name": "stdout",
     "output_type": "stream",
     "text": [
      "Melhor acurácia:  0.5072549683830171\n",
      "Melhor K:  9\n",
      "Método distância:  minkowski\n",
      "Melhor valor p:  1\n"
     ]
    }
   ],
   "source": [
    "import numpy as np\n",
    "from sklearn.neighbors import KNeighborsClassifier\n",
    "from sklearn.preprocessing import MinMaxScaler\n",
    "from sklearn.model_selection import GridSearchCV\n",
    "\n",
    "#Normalizando as variáveis preditoras:\n",
    "normalizador = MinMaxScaler(feature_range = (0 , 1))\n",
    "X_norm = normalizador.fit_transform(x)\n",
    "\n",
    "#Definindo os valores que serão testados no KNN:\n",
    "valores_K = np.array([3,5,7,9])\n",
    "calculo_distancia = ['minkowski', 'chebyshev']\n",
    "valores_p = np.array([1,2,3])\n",
    "valores_grid = {'n_neighbors':valores_K, 'metric':calculo_distancia, 'p':valores_p}\n",
    "\n",
    "#Criação do modelo:\n",
    "modelo = KNeighborsClassifier()\n",
    "\n",
    "#Criando os grids:\n",
    "gridKNN = GridSearchCV(estimator = modelo, param_grid = valores_grid, cv=3, n_jobs=-1)\n",
    "gridKNN.fit(X_norm,y)\n",
    "\n",
    "#Imprimindo os melhores parâmetros:\n",
    "print(\"Melhor acurácia: \", gridKNN.best_score_)\n",
    "print(\"Melhor K: \", gridKNN.best_estimator_.n_neighbors)\n",
    "print(\"Método distância: \", gridKNN.best_estimator_.metric)\n",
    "print(\"Melhor valor p: \", gridKNN.best_estimator_.p)"
   ]
  }
 ],
 "metadata": {
  "kernelspec": {
   "display_name": "Python 3 (ipykernel)",
   "language": "python",
   "name": "python3"
  },
  "language_info": {
   "codemirror_mode": {
    "name": "ipython",
    "version": 3
   },
   "file_extension": ".py",
   "mimetype": "text/x-python",
   "name": "python",
   "nbconvert_exporter": "python",
   "pygments_lexer": "ipython3",
   "version": "3.9.13"
  }
 },
 "nbformat": 4,
 "nbformat_minor": 5
}
